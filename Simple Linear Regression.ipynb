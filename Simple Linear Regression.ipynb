{
 "cells": [
  {
   "cell_type": "code",
   "execution_count": 2,
   "id": "6c4c6963",
   "metadata": {},
   "outputs": [],
   "source": [
    "import pandas as pd\n",
    "import numpy as np\n",
    "import matplotlib.pyplot as plt\n",
    "from sklearn import linear_model"
   ]
  },
  {
   "cell_type": "markdown",
   "id": "3401c918",
   "metadata": {},
   "source": [
    "## Load data from csv file"
   ]
  },
  {
   "cell_type": "code",
   "execution_count": 3,
   "id": "a0c1d541",
   "metadata": {},
   "outputs": [
    {
     "data": {
      "text/html": [
       "<div>\n",
       "<style scoped>\n",
       "    .dataframe tbody tr th:only-of-type {\n",
       "        vertical-align: middle;\n",
       "    }\n",
       "\n",
       "    .dataframe tbody tr th {\n",
       "        vertical-align: top;\n",
       "    }\n",
       "\n",
       "    .dataframe thead th {\n",
       "        text-align: right;\n",
       "    }\n",
       "</style>\n",
       "<table border=\"1\" class=\"dataframe\">\n",
       "  <thead>\n",
       "    <tr style=\"text-align: right;\">\n",
       "      <th></th>\n",
       "      <th>area</th>\n",
       "      <th>price</th>\n",
       "    </tr>\n",
       "  </thead>\n",
       "  <tbody>\n",
       "    <tr>\n",
       "      <th>0</th>\n",
       "      <td>2600</td>\n",
       "      <td>550000</td>\n",
       "    </tr>\n",
       "    <tr>\n",
       "      <th>1</th>\n",
       "      <td>3000</td>\n",
       "      <td>565000</td>\n",
       "    </tr>\n",
       "    <tr>\n",
       "      <th>2</th>\n",
       "      <td>3200</td>\n",
       "      <td>610000</td>\n",
       "    </tr>\n",
       "    <tr>\n",
       "      <th>3</th>\n",
       "      <td>3600</td>\n",
       "      <td>680000</td>\n",
       "    </tr>\n",
       "    <tr>\n",
       "      <th>4</th>\n",
       "      <td>4000</td>\n",
       "      <td>725000</td>\n",
       "    </tr>\n",
       "  </tbody>\n",
       "</table>\n",
       "</div>"
      ],
      "text/plain": [
       "   area   price\n",
       "0  2600  550000\n",
       "1  3000  565000\n",
       "2  3200  610000\n",
       "3  3600  680000\n",
       "4  4000  725000"
      ]
     },
     "execution_count": 3,
     "metadata": {},
     "output_type": "execute_result"
    }
   ],
   "source": [
    "df =pd.read_csv(\"homeprices.csv\")\n",
    "df"
   ]
  },
  {
   "cell_type": "code",
   "execution_count": 4,
   "id": "c6dfb9dd",
   "metadata": {},
   "outputs": [
    {
     "ename": "NameError",
     "evalue": "name 'reg' is not defined",
     "output_type": "error",
     "traceback": [
      "\u001b[1;31m---------------------------------------------------------------------------\u001b[0m",
      "\u001b[1;31mNameError\u001b[0m                                 Traceback (most recent call last)",
      "Cell \u001b[1;32mIn[4], line 5\u001b[0m\n\u001b[0;32m      3\u001b[0m plt\u001b[38;5;241m.\u001b[39mylabel(\u001b[38;5;124m'\u001b[39m\u001b[38;5;124mprice(US&)\u001b[39m\u001b[38;5;124m'\u001b[39m,fontsize\u001b[38;5;241m=\u001b[39m\u001b[38;5;241m20\u001b[39m)\n\u001b[0;32m      4\u001b[0m plt\u001b[38;5;241m.\u001b[39mscatter(df\u001b[38;5;241m.\u001b[39marea,df\u001b[38;5;241m.\u001b[39mprice,color\u001b[38;5;241m=\u001b[39m\u001b[38;5;124m'\u001b[39m\u001b[38;5;124mred\u001b[39m\u001b[38;5;124m'\u001b[39m,marker\u001b[38;5;241m=\u001b[39m\u001b[38;5;124m'\u001b[39m\u001b[38;5;124m+\u001b[39m\u001b[38;5;124m'\u001b[39m)\n\u001b[1;32m----> 5\u001b[0m plt\u001b[38;5;241m.\u001b[39mplot(df\u001b[38;5;241m.\u001b[39marea,reg\u001b[38;5;241m.\u001b[39mpredict(df[[\u001b[38;5;124m'\u001b[39m\u001b[38;5;124marea\u001b[39m\u001b[38;5;124m'\u001b[39m]]),color\u001b[38;5;241m=\u001b[39m\u001b[38;5;124m'\u001b[39m\u001b[38;5;124mblue\u001b[39m\u001b[38;5;124m'\u001b[39m)\n",
      "\u001b[1;31mNameError\u001b[0m: name 'reg' is not defined"
     ]
    },
    {
     "data": {
      "image/png": "[encoded data removed]",
      "text/plain": [
       "<Figure size 640x480 with 1 Axes>"
      ]
     },
     "metadata": {},
     "output_type": "display_data"
    }
   ],
   "source": [
    "%matplotlib inline\n",
    "plt.xlabel('area(sqr ft)',fontsize=20)\n",
    "plt.ylabel('price(US&)',fontsize=20)\n",
    "plt.scatter(df.area,df.price,color='red',marker='+')\n",
    "plt.plot(df.area,reg.predict(df[['area']]),color='blue')"
   ]
  },
  {
   "cell_type": "markdown",
   "id": "dc88004b",
   "metadata": {},
   "source": [
    "## Linear Regression Object"
   ]
  },
  {
   "cell_type": "code",
   "execution_count": null,
   "id": "633e783b",
   "metadata": {},
   "outputs": [],
   "source": [
    "reg = linear_model.LinearRegression()"
   ]
  },
  {
   "cell_type": "markdown",
   "id": "cc85ff5d",
   "metadata": {},
   "source": [
    "## Fit your model"
   ]
  },
  {
   "cell_type": "code",
   "execution_count": null,
   "id": "a63e5ead",
   "metadata": {},
   "outputs": [],
   "source": [
    "reg.fit(df[['area']],df.price)"
   ]
  },
  {
   "cell_type": "code",
   "execution_count": null,
   "id": "206d1b84",
   "metadata": {},
   "outputs": [],
   "source": [
    "reg.predict(np.array([[3300]]))"
   ]
  },
  {
   "cell_type": "code",
   "execution_count": null,
   "id": "02423dc2",
   "metadata": {},
   "outputs": [],
   "source": [
    "reg.coef_"
   ]
  },
  {
   "cell_type": "code",
   "execution_count": null,
   "id": "b71080b2",
   "metadata": {},
   "outputs": [],
   "source": [
    "d =pd.read_csv(\"areas.csv\")\n",
    "d"
   ]
  },
  {
   "cell_type": "code",
   "execution_count": null,
   "id": "d0f12bb7",
   "metadata": {},
   "outputs": [],
   "source": [
    "p =reg.predict(d)"
   ]
  },
  {
   "cell_type": "code",
   "execution_count": null,
   "id": "44fe6c3d",
   "metadata": {},
   "outputs": [],
   "source": [
    "d['prices'] =p"
   ]
  },
  {
   "cell_type": "code",
   "execution_count": null,
   "id": "18881b84",
   "metadata": {},
   "outputs": [],
   "source": [
    "d"
   ]
  },
  {
   "cell_type": "markdown",
   "id": "c3b07d41",
   "metadata": {},
   "source": [
    "## Export to csv"
   ]
  },
  {
   "cell_type": "code",
   "execution_count": null,
   "id": "82b7c058",
   "metadata": {},
   "outputs": [],
   "source": [
    "d.to_csv(\"prediction.csv\",index=False)"
   ]
  },
  {
   "cell_type": "markdown",
   "id": "bfcac1d9",
   "metadata": {},
   "source": [
    "## Excersise to predict net income per capita (Current US &)"
   ]
  },
  {
   "cell_type": "code",
   "execution_count": null,
   "id": "463ea3d8",
   "metadata": {},
   "outputs": [],
   "source": [
    "per =pd.read_csv(\"canada_per_capita_income.csv\")\n",
    "per.head()"
   ]
  },
  {
   "cell_type": "markdown",
   "id": "a024350c",
   "metadata": {},
   "source": [
    "## Format column"
   ]
  },
  {
   "cell_type": "code",
   "execution_count": null,
   "id": "12c8a001",
   "metadata": {},
   "outputs": [],
   "source": [
    "per = per.rename(columns={'per capita income (US$)': 'income'})\n",
    "per.head()"
   ]
  },
  {
   "cell_type": "code",
   "execution_count": null,
   "id": "122fe29c",
   "metadata": {},
   "outputs": [],
   "source": [
    "# Reshaping 'year' column into a 2D array\n",
    "X = per['year'].values.reshape(-1, 1)\n",
    "# Target variable\n",
    "y = per['income']\n"
   ]
  },
  {
   "cell_type": "code",
   "execution_count": null,
   "id": "e220a492",
   "metadata": {},
   "outputs": [],
   "source": [
    "regre =linear_model.LinearRegression()"
   ]
  },
  {
   "cell_type": "code",
   "execution_count": null,
   "id": "c5e7bb45",
   "metadata": {},
   "outputs": [],
   "source": [
    "regre.fit(X,y)"
   ]
  },
  {
   "cell_type": "code",
   "execution_count": null,
   "id": "c5ad5ee5",
   "metadata": {},
   "outputs": [],
   "source": [
    "# Reshape the input for prediction\n",
    "year_2020 = np.array([[2020]])\n",
    "# Predict income for the year 2020\n",
    "predicted_income = regre.predict(year_2020)\n",
    "predicted_income"
   ]
  },
  {
   "cell_type": "markdown",
   "id": "6d13c17c",
   "metadata": {},
   "source": [
    "## Multivariable linear regrerssion"
   ]
  },
  {
   "cell_type": "code",
   "execution_count": null,
   "id": "91501536",
   "metadata": {},
   "outputs": [],
   "source": [
    "import pandas as pd\n",
    "import numpy as np\n",
    "from sklearn import linear_model"
   ]
  },
  {
   "cell_type": "code",
   "execution_count": null,
   "id": "e8affdd9",
   "metadata": {},
   "outputs": [],
   "source": [
    "data =pd.read_csv(\"homeprice.csv\")\n",
    "data.head()"
   ]
  },
  {
   "cell_type": "markdown",
   "id": "f824ecad",
   "metadata": {},
   "source": [
    "## Handling null values"
   ]
  },
  {
   "cell_type": "code",
   "execution_count": null,
   "id": "75539903",
   "metadata": {},
   "outputs": [],
   "source": [
    "median_num=data.bedrooms.median()\n",
    "median_num"
   ]
  },
  {
   "cell_type": "code",
   "execution_count": null,
   "id": "3e0c7568",
   "metadata": {},
   "outputs": [],
   "source": [
    "data.bedrooms.fillna(median_num)"
   ]
  },
  {
   "cell_type": "code",
   "execution_count": null,
   "id": "75158dd8",
   "metadata": {},
   "outputs": [],
   "source": [
    "data.bedrooms=data.bedrooms.fillna(median_num)\n",
    "data"
   ]
  },
  {
   "cell_type": "markdown",
   "id": "065e91f6",
   "metadata": {},
   "source": [
    "## Creater linear Regression model"
   ]
  },
  {
   "cell_type": "code",
   "execution_count": null,
   "id": "f89f12bd",
   "metadata": {},
   "outputs": [],
   "source": [
    "reg = linear_model.LinearRegression()"
   ]
  },
  {
   "cell_type": "code",
   "execution_count": null,
   "id": "92c8075c",
   "metadata": {},
   "outputs": [],
   "source": [
    "reg.fit(data[['area','bedrooms','age']],data.price)"
   ]
  },
  {
   "cell_type": "code",
   "execution_count": null,
   "id": "edaeef3c",
   "metadata": {},
   "outputs": [],
   "source": [
    "reg.coef_"
   ]
  },
  {
   "cell_type": "code",
   "execution_count": null,
   "id": "eecc7574",
   "metadata": {},
   "outputs": [],
   "source": [
    "reg.intercept_"
   ]
  },
  {
   "cell_type": "code",
   "execution_count": null,
   "id": "414d2b3a",
   "metadata": {},
   "outputs": [],
   "source": [
    "reg.predict([[3000,3,40]])"
   ]
  },
  {
   "cell_type": "code",
   "execution_count": null,
   "id": "3bca4fb0",
   "metadata": {},
   "outputs": [],
   "source": [
    "reg.predict([[2500,4,5]])"
   ]
  },
  {
   "cell_type": "markdown",
   "id": "4bbe5b7a",
   "metadata": {},
   "source": [
    "## Exercise on hiring data "
   ]
  },
  {
   "cell_type": "code",
   "execution_count": null,
   "id": "06dd057a",
   "metadata": {},
   "outputs": [],
   "source": [
    "hiring=pd.read_csv(\"hiring.csv\")\n",
    "hiring"
   ]
  },
  {
   "cell_type": "markdown",
   "id": "0c1961c4",
   "metadata": {},
   "source": [
    "### Rename columns"
   ]
  },
  {
   "cell_type": "code",
   "execution_count": null,
   "id": "8e285204",
   "metadata": {},
   "outputs": [],
   "source": [
    "New_hiring = hiring.rename(columns={'test_score(out of 10)': 'test_score',\n",
    "                                    'interview_score(out of 10)':'interview_score','salary($)':'salary'})\n",
    "New_hiring"
   ]
  },
  {
   "cell_type": "markdown",
   "id": "75f7c778",
   "metadata": {},
   "source": [
    "### Format data "
   ]
  },
  {
   "cell_type": "code",
   "execution_count": null,
   "id": "307484d5",
   "metadata": {},
   "outputs": [],
   "source": [
    "New_hiring.experience=New_hiring.experience.fillna('zero')\n",
    "New_hiring"
   ]
  },
  {
   "cell_type": "code",
   "execution_count": null,
   "id": "0fe5de14",
   "metadata": {},
   "outputs": [],
   "source": [
    "from sklearn import linear_model\n",
    "from word2number import w2n\n",
    "import math"
   ]
  },
  {
   "cell_type": "code",
   "execution_count": null,
   "id": "c680809e",
   "metadata": {},
   "outputs": [],
   "source": [
    "def string_to_number(word):\n",
    "    try:\n",
    "        return w2n.word_to_num(word)\n",
    "    except ValueError:\n",
    "        return word\n",
    "\n",
    "New_hiring['experience'] = New_hiring['experience'].apply(string_to_number)\n",
    "New_hiring"
   ]
  },
  {
   "cell_type": "code",
   "execution_count": null,
   "id": "0aa55742",
   "metadata": {},
   "outputs": [],
   "source": [
    "median_score=math.floor(New_hiring['test_score'].mean())\n",
    "median_score"
   ]
  },
  {
   "cell_type": "code",
   "execution_count": null,
   "id": "a69dab20",
   "metadata": {},
   "outputs": [],
   "source": [
    "New_hiring['test_score']=New_hiring['test_score'].fillna(median_score)\n",
    "New_hiring"
   ]
  },
  {
   "cell_type": "code",
   "execution_count": null,
   "id": "63b597b5",
   "metadata": {},
   "outputs": [],
   "source": [
    "features = ['experience', 'test_score', 'interview_score']\n",
    "\n",
    "X = New_hiring[features]\n",
    "y = New_hiring['salary']"
   ]
  },
  {
   "cell_type": "code",
   "execution_count": null,
   "id": "c60cfbf6",
   "metadata": {},
   "outputs": [],
   "source": [
    "regression=linear_model.LinearRegression()\n",
    "regression"
   ]
  },
  {
   "cell_type": "code",
   "execution_count": null,
   "id": "cd02bdd2",
   "metadata": {},
   "outputs": [],
   "source": [
    "regression.fit(X, y)"
   ]
  },
  {
   "cell_type": "code",
   "execution_count": null,
   "id": "71540d0a",
   "metadata": {},
   "outputs": [],
   "source": [
    "reg.predict([[2,9,6]])"
   ]
  },
  {
   "cell_type": "code",
   "execution_count": null,
   "id": "85fc3288",
   "metadata": {},
   "outputs": [],
   "source": []
  }
 ],
 "metadata": {
  "kernelspec": {
   "display_name": "Python 3 (ipykernel)",
   "language": "python",
   "name": "python3"
  },
  "language_info": {
   "codemirror_mode": {
    "name": "ipython",
    "version": 3
   },
   "file_extension": ".py",
   "mimetype": "text/x-python",
   "name": "python",
   "nbconvert_exporter": "python",
   "pygments_lexer": "ipython3",
   "version": "3.11.5"
  }
 },
 "nbformat": 4,
 "nbformat_minor": 5
}
